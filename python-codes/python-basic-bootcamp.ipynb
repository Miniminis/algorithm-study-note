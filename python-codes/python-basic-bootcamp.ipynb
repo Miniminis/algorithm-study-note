{
 "cells": [
  {
   "cell_type": "markdown",
   "id": "cdd3c6d0",
   "metadata": {},
   "source": [
    "## Python 기본문법 복습하기 (feat. [잔재미코딩 파이썬 기초 부트캠프](https://www.fun-coding.org/python-question1-answer.html)) "
   ]
  },
  {
   "cell_type": "code",
   "execution_count": 6,
   "id": "73ee560a",
   "metadata": {
    "scrolled": true
   },
   "outputs": [
    {
     "name": "stdout",
     "output_type": "stream",
     "text": [
      "Hello World\n"
     ]
    }
   ],
   "source": [
    "#1\n",
    "print(\"Hello World\")"
   ]
  },
  {
   "cell_type": "code",
   "execution_count": 7,
   "id": "b12e681b",
   "metadata": {},
   "outputs": [
    {
     "name": "stdout",
     "output_type": "stream",
     "text": [
      "Mary's Cosmetic\n"
     ]
    }
   ],
   "source": [
    "#2 \n",
    "print(\"Mary's Cosmetic\")"
   ]
  },
  {
   "cell_type": "code",
   "execution_count": 9,
   "id": "fe70d1df",
   "metadata": {},
   "outputs": [
    {
     "name": "stdout",
     "output_type": "stream",
     "text": [
      "3.14\n"
     ]
    }
   ],
   "source": [
    "#3\n",
    "digit = 3.141592\n",
    "print(\"%.2f\" % digit)"
   ]
  },
  {
   "cell_type": "code",
   "execution_count": 11,
   "id": "490ab699",
   "metadata": {},
   "outputs": [
    {
     "name": "stdout",
     "output_type": "stream",
     "text": [
      "1\n",
      "2\n",
      "3\n"
     ]
    }
   ],
   "source": [
    "#4 \n",
    "first_num = input()\n",
    "second_num = input()\n",
    "print(int(first_num) + int(second_num))"
   ]
  },
  {
   "cell_type": "code",
   "execution_count": 14,
   "id": "960bd156",
   "metadata": {},
   "outputs": [
    {
     "name": "stdout",
     "output_type": "stream",
     "text": [
      "python\n",
      "4\n",
      "python\n",
      "python\n",
      "python\n",
      "python\n"
     ]
    }
   ],
   "source": [
    "#5\n",
    "word = input()\n",
    "loop_count = input()\n",
    "for i in range(int(loop_count)):\n",
    "    print(word)    "
   ]
  },
  {
   "cell_type": "code",
   "execution_count": 15,
   "id": "22e62d43",
   "metadata": {},
   "outputs": [
    {
     "name": "stdout",
     "output_type": "stream",
     "text": [
      "720\n",
      "100\n"
     ]
    }
   ],
   "source": [
    "#6\n",
    "string_num = \"720\"\n",
    "int_num = 100\n",
    "\n",
    "print(int(string_num))\n",
    "print(str(int_num))"
   ]
  },
  {
   "cell_type": "code",
   "execution_count": 18,
   "id": "3e1818fd",
   "metadata": {},
   "outputs": [
    {
     "name": "stdout",
     "output_type": "stream",
     "text": [
      "4\n",
      "5\n",
      "덧셈 :  9\n",
      "뺄셈 :  -1\n",
      "곱셈 :  20\n",
      "나눗셈 :  0.8\n"
     ]
    }
   ],
   "source": [
    "#7\n",
    "digit1 = input()\n",
    "digit2 = input()\n",
    "\n",
    "int_digit1 = int(digit1)\n",
    "int_digit2 = int(digit2)\n",
    "\n",
    "print(\"덧셈 : \", int(int_digit1) +  int(int_digit2))\n",
    "print(\"뺄셈 : \", int(int_digit1) -  int(int_digit2))\n",
    "print(\"곱셈 : \", int(int_digit1) *  int(int_digit2))\n",
    "print(\"나눗셈 : \", int(int_digit1) /  int(int_digit2))"
   ]
  },
  {
   "cell_type": "code",
   "execution_count": 19,
   "id": "f8331194",
   "metadata": {},
   "outputs": [
    {
     "name": "stdout",
     "output_type": "stream",
     "text": [
      "3\n",
      "4\n",
      "81\n"
     ]
    }
   ],
   "source": [
    "#8\n",
    "digit1 = input()\n",
    "digit2 = input()\n",
    "\n",
    "print (int(digit1) ** int(digit2))"
   ]
  },
  {
   "cell_type": "code",
   "execution_count": 20,
   "id": "810d4a63",
   "metadata": {},
   "outputs": [
    {
     "name": "stdout",
     "output_type": "stream",
     "text": [
      "5\n",
      "2\n",
      "덧셈 :  7\n",
      "뺄셈 :  3\n",
      "곱셈 :  10\n",
      "나눗셈 몫 :  2.5\n",
      "나눗셈 나머지 :  1\n"
     ]
    }
   ],
   "source": [
    "#9\n",
    "digit1 = input()\n",
    "digit2 = input()\n",
    "\n",
    "int_digit1 = int(digit1)\n",
    "int_digit2 = int(digit2)\n",
    "\n",
    "print(\"덧셈 : \", int(int_digit1) +  int(int_digit2))\n",
    "print(\"뺄셈 : \", int(int_digit1) -  int(int_digit2))\n",
    "print(\"곱셈 : \", int(int_digit1) *  int(int_digit2))\n",
    "print(\"나눗셈 몫 : \", int(int_digit1) /  int(int_digit2))\n",
    "print(\"나눗셈 나머지 : \", int(int_digit1) %  int(int_digit2))"
   ]
  },
  {
   "cell_type": "code",
   "execution_count": 21,
   "id": "65830bbf",
   "metadata": {},
   "outputs": [
    {
     "name": "stdout",
     "output_type": "stream",
     "text": [
      "10\n",
      "3\n",
      "10 / 3 = 3.3\n"
     ]
    }
   ],
   "source": [
    "#11\n",
    "digit1 = int(input())\n",
    "digit2 = int(input())\n",
    "\n",
    "print('{0} / {1} = {2:0.1f}'.format(digit1, digit2, digit1/digit2))"
   ]
  },
  {
   "cell_type": "code",
   "execution_count": null,
   "id": "fdc92829",
   "metadata": {},
   "outputs": [],
   "source": []
  }
 ],
 "metadata": {
  "kernelspec": {
   "display_name": "Python 3 (ipykernel)",
   "language": "python",
   "name": "python3"
  },
  "language_info": {
   "codemirror_mode": {
    "name": "ipython",
    "version": 3
   },
   "file_extension": ".py",
   "mimetype": "text/x-python",
   "name": "python",
   "nbconvert_exporter": "python",
   "pygments_lexer": "ipython3",
   "version": "3.9.7"
  }
 },
 "nbformat": 4,
 "nbformat_minor": 5
}
